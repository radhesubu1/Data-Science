{
 "cells": [
  {
   "cell_type": "code",
   "execution_count": 1,
   "id": "042e0ed7-af92-4c99-857b-778790610982",
   "metadata": {},
   "outputs": [],
   "source": [
    "a=10"
   ]
  },
  {
   "cell_type": "code",
   "execution_count": 2,
   "id": "45a36c3a-2c20-44f2-a34a-e599a345676d",
   "metadata": {},
   "outputs": [],
   "source": [
    "a='c'"
   ]
  },
  {
   "cell_type": "code",
   "execution_count": 3,
   "id": "5ea4bf00-ee5b-4373-a014-360fd8539428",
   "metadata": {},
   "outputs": [
    {
     "data": {
      "text/plain": [
       "str"
      ]
     },
     "execution_count": 3,
     "metadata": {},
     "output_type": "execute_result"
    }
   ],
   "source": [
    "type(a)"
   ]
  },
  {
   "cell_type": "code",
   "execution_count": 4,
   "id": "e7506dc8-a3ba-4726-8889-0cba9f5b9804",
   "metadata": {},
   "outputs": [
    {
     "ename": "ValueError",
     "evalue": "invalid literal for int() with base 10: 'abc'",
     "output_type": "error",
     "traceback": [
      "\u001b[0;31m---------------------------------------------------------------------------\u001b[0m",
      "\u001b[0;31mValueError\u001b[0m                                Traceback (most recent call last)",
      "Cell \u001b[0;32mIn[4], line 1\u001b[0m\n\u001b[0;32m----> 1\u001b[0m \u001b[38;5;28;43mint\u001b[39;49m\u001b[43m(\u001b[49m\u001b[38;5;124;43m'\u001b[39;49m\u001b[38;5;124;43mabc\u001b[39;49m\u001b[38;5;124;43m'\u001b[39;49m\u001b[43m)\u001b[49m\n",
      "\u001b[0;31mValueError\u001b[0m: invalid literal for int() with base 10: 'abc'"
     ]
    }
   ],
   "source": [
    "int('abc')"
   ]
  },
  {
   "cell_type": "code",
   "execution_count": null,
   "id": "959035e8-fff7-4ec8-aeee-ca0b85f7abd5",
   "metadata": {},
   "outputs": [],
   "source": [
    "print(\"Hello\")"
   ]
  },
  {
   "cell_type": "code",
   "execution_count": null,
   "id": "0d670850-debe-487e-bf1f-17a78974ea05",
   "metadata": {},
   "outputs": [],
   "source": [
    "print(123)"
   ]
  },
  {
   "cell_type": "code",
   "execution_count": null,
   "id": "16da8b29-7019-45fb-90a9-8777a80025e0",
   "metadata": {},
   "outputs": [],
   "source": [
    "age=28\n",
    "print(\"My age is: \", age)"
   ]
  },
  {
   "cell_type": "code",
   "execution_count": null,
   "id": "90b785ae-c151-49e6-a275-d479a7448bef",
   "metadata": {},
   "outputs": [],
   "source": [
    "print(\"My age is: {age}\")"
   ]
  },
  {
   "cell_type": "code",
   "execution_count": null,
   "id": "721e388a-be38-4ec6-aafb-56ef5aa12509",
   "metadata": {},
   "outputs": [],
   "source": [
    "## f (Format) string\n",
    "print(f\"My age is: {age}\")"
   ]
  },
  {
   "cell_type": "code",
   "execution_count": null,
   "id": "697cb807-8b9b-4533-82e6-9c7113da464d",
   "metadata": {
    "tags": []
   },
   "outputs": [],
   "source": [
    "## format()\n",
    "name=\"Radhashyam\"\n",
    "age=28\n",
    "print(\"My name is {} and age is {}\". format(name,age))"
   ]
  },
  {
   "cell_type": "code",
   "execution_count": null,
   "id": "863acb46-09ff-4067-b7f5-cefdff5054c9",
   "metadata": {},
   "outputs": [],
   "source": [
    "## place holder {firstname}\n",
    "print(\"My name is {firstname} and age is {firstage}\". format(firstname=name,firstage=age))"
   ]
  },
  {
   "cell_type": "code",
   "execution_count": null,
   "id": "fbb03b5e-e727-4ae3-9867-812032d57ff6",
   "metadata": {},
   "outputs": [],
   "source": [
    "name=\"Radhe\"\n",
    "age=28\n",
    "degree=\"MCA\"\n",
    "\n",
    "print(\"My age is {} and i have completed: my degree of {} with the name of {}\".format(age,degree,name))"
   ]
  },
  {
   "cell_type": "markdown",
   "id": "7c0a3795-adcc-4e8d-9e4a-7e03b4cb3322",
   "metadata": {},
   "source": [
    "## Control Flow\n",
    "### Decission Making Statements"
   ]
  },
  {
   "cell_type": "code",
   "execution_count": 8,
   "id": "58344d7f-f46b-4a49-a423-faec45a947ca",
   "metadata": {},
   "outputs": [
    {
     "name": "stdout",
     "output_type": "stream",
     "text": [
      "you are eligible to vote\n"
     ]
    }
   ],
   "source": [
    "## if statements\n",
    "age=18\n",
    "if age>=18:\n",
    "    print(\"you are eligible to vote\")"
   ]
  },
  {
   "cell_type": "code",
   "execution_count": 7,
   "id": "6169ef64-eb47-46d7-98ab-8145dd6738e8",
   "metadata": {},
   "outputs": [
    {
     "name": "stdout",
     "output_type": "stream",
     "text": [
      "you are not eligible to vote\n"
     ]
    }
   ],
   "source": [
    "## if statements\n",
    "age=17\n",
    "if age<18:\n",
    "    print(\"you are not eligible to vote\")"
   ]
  },
  {
   "cell_type": "code",
   "execution_count": 6,
   "id": "52479932-e290-4e32-8db8-2ce9a95f0c8b",
   "metadata": {},
   "outputs": [
    {
     "name": "stdin",
     "output_type": "stream",
     "text": [
      "Enter the name Radhashyam\n"
     ]
    }
   ],
   "source": [
    "name=input(\"Enter the name\")"
   ]
  },
  {
   "cell_type": "code",
   "execution_count": 9,
   "id": "0447a174-af1b-4dc6-9ed3-eb9d96bd911e",
   "metadata": {},
   "outputs": [
    {
     "name": "stdin",
     "output_type": "stream",
     "text": [
      "Enter the age 34\n"
     ]
    },
    {
     "name": "stdout",
     "output_type": "stream",
     "text": [
      "you are young blood\n"
     ]
    }
   ],
   "source": [
    "age=int(input(\"Enter the age\"))\n",
    "if age>=18 and age<=45:\n",
    "    print(\"you are young blood\")"
   ]
  },
  {
   "cell_type": "code",
   "execution_count": 10,
   "id": "5ac43f75-d4c6-4a52-a58d-1d9e9f16645d",
   "metadata": {},
   "outputs": [
    {
     "name": "stdin",
     "output_type": "stream",
     "text": [
      "Enter the age 50\n"
     ]
    },
    {
     "name": "stdout",
     "output_type": "stream",
     "text": [
      "Thank you your application is rejected\n"
     ]
    }
   ],
   "source": [
    "## if else statements\n",
    "age=int(input(\"Enter the age\"))\n",
    "if age>=18 and age<=45:\n",
    "    print(\"you are young blood\")\n",
    "else:\n",
    "    print(\"Thank you your application is rejected\")"
   ]
  },
  {
   "cell_type": "code",
   "execution_count": 26,
   "id": "5713bf9b-2b79-4d85-8de2-9d5687ce02a5",
   "metadata": {},
   "outputs": [
    {
     "name": "stdin",
     "output_type": "stream",
     "text": [
      "Enter you Product value 2999\n"
     ]
    },
    {
     "name": "stdout",
     "output_type": "stream",
     "text": [
      "Congratulated You will get additional gift\n",
      "Product price is: 2099.2999999999997\n"
     ]
    }
   ],
   "source": [
    "ProductValue=int(input(\"Enter you Product value\"))\n",
    "if ProductValue > 3000:\n",
    "                 print(f\"Product price is: {ProductValue*0.8}\")     \n",
    "elif ProductValue>=2000 and ProductValue<=3000:\n",
    "    if ProductValue==2999:\n",
    "            print(\"Congratulated You will get additional gift\")\n",
    "    print(f\"Product price is: {ProductValue*0.7}\")\n",
    "        \n",
    "else:\n",
    "    print(f\"Product price is: {ProductValue*0.6}\")"
   ]
  },
  {
   "cell_type": "code",
   "execution_count": 28,
   "id": "fb2150c5-5fc1-46cb-b2a1-b72e26ae52d3",
   "metadata": {},
   "outputs": [
    {
     "name": "stdin",
     "output_type": "stream",
     "text": [
      "enter the no 999\n"
     ]
    },
    {
     "name": "stdout",
     "output_type": "stream",
     "text": [
      "welcome\n"
     ]
    }
   ],
   "source": [
    "val=int(input(\"enter the no\"))\n",
    "if(val<=999):print(\"welcome\")"
   ]
  },
  {
   "cell_type": "code",
   "execution_count": null,
   "id": "671f19ed-db8f-46e3-9f98-7e855bbc5adc",
   "metadata": {},
   "outputs": [],
   "source": []
  },
  {
   "cell_type": "code",
   "execution_count": null,
   "id": "6fe5a3e1-e4f6-47fd-8212-17875fc2d7cd",
   "metadata": {},
   "outputs": [],
   "source": []
  },
  {
   "cell_type": "code",
   "execution_count": null,
   "id": "a2b9d31f-8ff5-4a34-8535-57466c32936b",
   "metadata": {},
   "outputs": [],
   "source": []
  },
  {
   "cell_type": "code",
   "execution_count": null,
   "id": "ad5d070c-1e4e-4509-bb50-32dc9ede1ffe",
   "metadata": {},
   "outputs": [],
   "source": []
  },
  {
   "cell_type": "code",
   "execution_count": null,
   "id": "037882c3-212d-4270-b4a8-444f8ef2e79a",
   "metadata": {},
   "outputs": [],
   "source": []
  },
  {
   "cell_type": "code",
   "execution_count": null,
   "id": "db2b936b-e600-4c6d-9181-be4ae9be3a24",
   "metadata": {},
   "outputs": [],
   "source": []
  },
  {
   "cell_type": "code",
   "execution_count": null,
   "id": "adb8b36b-c009-46ee-b102-6cf12e041dab",
   "metadata": {},
   "outputs": [],
   "source": []
  },
  {
   "cell_type": "code",
   "execution_count": null,
   "id": "05da5dac-b8ff-4fad-bf9e-82752d9b84ec",
   "metadata": {},
   "outputs": [],
   "source": []
  },
  {
   "cell_type": "code",
   "execution_count": null,
   "id": "3c158276-4b94-4c88-be47-70e3e446cdf3",
   "metadata": {},
   "outputs": [],
   "source": []
  },
  {
   "cell_type": "code",
   "execution_count": null,
   "id": "75c840b5-e6d5-49fc-8673-391386abcc75",
   "metadata": {},
   "outputs": [],
   "source": []
  },
  {
   "cell_type": "code",
   "execution_count": null,
   "id": "252e2108-70a3-40d9-904e-d96e3aec9856",
   "metadata": {},
   "outputs": [],
   "source": []
  },
  {
   "cell_type": "code",
   "execution_count": null,
   "id": "cdecc360-fe1c-416c-b23f-4a9b156f8b3d",
   "metadata": {},
   "outputs": [],
   "source": []
  },
  {
   "cell_type": "code",
   "execution_count": null,
   "id": "81e6e31e-c92c-4368-9d45-66ed20feea17",
   "metadata": {},
   "outputs": [],
   "source": []
  },
  {
   "cell_type": "code",
   "execution_count": null,
   "id": "b3fbd4f8-f879-450a-9a37-caad4914e602",
   "metadata": {},
   "outputs": [],
   "source": []
  }
 ],
 "metadata": {
  "kernelspec": {
   "display_name": "Python 3 (ipykernel)",
   "language": "python",
   "name": "python3"
  },
  "language_info": {
   "codemirror_mode": {
    "name": "ipython",
    "version": 3
   },
   "file_extension": ".py",
   "mimetype": "text/x-python",
   "name": "python",
   "nbconvert_exporter": "python",
   "pygments_lexer": "ipython3",
   "version": "3.10.8"
  }
 },
 "nbformat": 4,
 "nbformat_minor": 5
}
