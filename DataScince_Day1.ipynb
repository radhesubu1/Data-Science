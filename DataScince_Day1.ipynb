{
 "cells": [
  {
   "cell_type": "markdown",
   "id": "62879819-dbc3-4df1-a038-1842399f7cec",
   "metadata": {},
   "source": [
    "1+1"
   ]
  },
  {
   "cell_type": "code",
   "execution_count": 5,
   "id": "916df810-9666-4fa0-b090-699bfd630562",
   "metadata": {},
   "outputs": [
    {
     "data": {
      "text/plain": [
       "20"
      ]
     },
     "execution_count": 5,
     "metadata": {},
     "output_type": "execute_result"
    }
   ],
   "source": [
    "## Heelllo Guys\n",
    "a=20\n",
    "a"
   ]
  },
  {
   "cell_type": "markdown",
   "id": "a02b1321-cf95-4d90-9502-770901a28146",
   "metadata": {},
   "source": [
    "###Numbers"
   ]
  },
  {
   "cell_type": "code",
   "execution_count": 1,
   "id": "50692cd9-c6ab-461f-9cbe-4f7b22a92ff7",
   "metadata": {},
   "outputs": [
    {
     "data": {
      "text/plain": [
       "4"
      ]
     },
     "execution_count": 1,
     "metadata": {},
     "output_type": "execute_result"
    }
   ],
   "source": [
    "1+3"
   ]
  },
  {
   "cell_type": "code",
   "execution_count": 7,
   "id": "fc0bde7d-47c4-46d1-8863-94c9f384bb11",
   "metadata": {},
   "outputs": [
    {
     "name": "stdout",
     "output_type": "stream",
     "text": [
      "4\n"
     ]
    }
   ],
   "source": [
    "print(1+3)"
   ]
  },
  {
   "cell_type": "code",
   "execution_count": 8,
   "id": "44faf646-74f2-4c59-8aaf-932b6fb92b43",
   "metadata": {},
   "outputs": [
    {
     "data": {
      "text/plain": [
       "5"
      ]
     },
     "execution_count": 8,
     "metadata": {},
     "output_type": "execute_result"
    }
   ],
   "source": [
    "a=5\n",
    "a"
   ]
  },
  {
   "cell_type": "code",
   "execution_count": null,
   "id": "b84b02db-3785-4849-8514-6e781d9e3063",
   "metadata": {},
   "outputs": [],
   "source": []
  },
  {
   "cell_type": "code",
   "execution_count": 9,
   "id": "31ebc5a4-34d5-45d8-b19f-cd46c03e8700",
   "metadata": {},
   "outputs": [
    {
     "name": "stdout",
     "output_type": "stream",
     "text": [
      "5\n"
     ]
    }
   ],
   "source": [
    "a=5\n",
    "print(a)"
   ]
  },
  {
   "cell_type": "code",
   "execution_count": 10,
   "id": "ada9e223-9286-408f-a118-8fd65575321a",
   "metadata": {},
   "outputs": [
    {
     "ename": "SyntaxError",
     "evalue": "unterminated string literal (detected at line 1) (2386008741.py, line 1)",
     "output_type": "error",
     "traceback": [
      "\u001b[0;36m  Cell \u001b[0;32mIn[10], line 1\u001b[0;36m\u001b[0m\n\u001b[0;31m    print(\"helloworld\u001b[0m\n\u001b[0m          ^\u001b[0m\n\u001b[0;31mSyntaxError\u001b[0m\u001b[0;31m:\u001b[0m unterminated string literal (detected at line 1)\n"
     ]
    }
   ],
   "source": [
    "print(\"helloworld   \n",
    "      Test\")"
   ]
  },
  {
   "cell_type": "code",
   "execution_count": 11,
   "id": "e4c3ca63-8e2b-46b2-bacf-f3ebd5fb55b4",
   "metadata": {},
   "outputs": [
    {
     "name": "stdout",
     "output_type": "stream",
     "text": [
      "heelo /n Test\n"
     ]
    }
   ],
   "source": [
    "print(\"heelo /n Test\")"
   ]
  },
  {
   "cell_type": "markdown",
   "id": "44c2d5ae-2e4b-44a0-b434-4c5be5d9da03",
   "metadata": {},
   "source": [
    "## variable Assignment"
   ]
  },
  {
   "cell_type": "code",
   "execution_count": 12,
   "id": "273bb8b4-bb1c-4bd2-b2df-dc98afe7befb",
   "metadata": {},
   "outputs": [],
   "source": [
    "name=\"radhe\"\n",
    "company=\"student\""
   ]
  },
  {
   "cell_type": "code",
   "execution_count": 13,
   "id": "53081620-644f-4b7a-bf5b-5c6828351754",
   "metadata": {},
   "outputs": [
    {
     "data": {
      "text/plain": [
       "'student'"
      ]
     },
     "execution_count": 13,
     "metadata": {},
     "output_type": "execute_result"
    }
   ],
   "source": [
    "company"
   ]
  },
  {
   "cell_type": "code",
   "execution_count": null,
   "id": "58b2970e-255f-4b96-ad64-ff100cdbe5bf",
   "metadata": {},
   "outputs": [],
   "source": [
    "number=10\n"
   ]
  },
  {
   "cell_type": "code",
   "execution_count": 14,
   "id": "dc2967c2-deb4-4479-a189-22f74621fd81",
   "metadata": {},
   "outputs": [
    {
     "data": {
      "text/plain": [
       "20"
      ]
     },
     "execution_count": 14,
     "metadata": {},
     "output_type": "execute_result"
    }
   ],
   "source": [
    "number=20\n",
    "number"
   ]
  },
  {
   "cell_type": "code",
   "execution_count": 15,
   "id": "de4ca350-12ec-411f-990c-7c875b2a1962",
   "metadata": {},
   "outputs": [
    {
     "data": {
      "text/plain": [
       "str"
      ]
     },
     "execution_count": 15,
     "metadata": {},
     "output_type": "execute_result"
    }
   ],
   "source": [
    "type(\"\")"
   ]
  },
  {
   "cell_type": "code",
   "execution_count": 16,
   "id": "31bdd374-c7ed-462f-8f0f-987c1b0eaf20",
   "metadata": {},
   "outputs": [
    {
     "data": {
      "text/plain": [
       "str"
      ]
     },
     "execution_count": 16,
     "metadata": {},
     "output_type": "execute_result"
    }
   ],
   "source": [
    "type(name)"
   ]
  },
  {
   "cell_type": "code",
   "execution_count": 17,
   "id": "37a16908-2169-4daa-83c9-bb154885cf56",
   "metadata": {},
   "outputs": [
    {
     "data": {
      "text/plain": [
       "int"
      ]
     },
     "execution_count": 17,
     "metadata": {},
     "output_type": "execute_result"
    }
   ],
   "source": [
    "type(number)"
   ]
  },
  {
   "cell_type": "code",
   "execution_count": 18,
   "id": "953971ae-a355-4666-8904-050d64cb05f0",
   "metadata": {},
   "outputs": [],
   "source": [
    "decimal_num=2.5"
   ]
  },
  {
   "cell_type": "code",
   "execution_count": 19,
   "id": "4326bdb8-420b-4482-af47-ff0e2e851222",
   "metadata": {},
   "outputs": [
    {
     "data": {
      "text/plain": [
       "2.5"
      ]
     },
     "execution_count": 19,
     "metadata": {},
     "output_type": "execute_result"
    }
   ],
   "source": [
    "decimal_num"
   ]
  },
  {
   "cell_type": "code",
   "execution_count": 20,
   "id": "788007cd-ac64-4e68-92ed-8d576b3192ad",
   "metadata": {},
   "outputs": [
    {
     "data": {
      "text/plain": [
       "float"
      ]
     },
     "execution_count": 20,
     "metadata": {},
     "output_type": "execute_result"
    }
   ],
   "source": [
    "type(decimal_num)"
   ]
  },
  {
   "cell_type": "code",
   "execution_count": 21,
   "id": "b2ce3f14-d118-4a7b-8621-409a6b1c5a8a",
   "metadata": {},
   "outputs": [
    {
     "data": {
      "text/plain": [
       "str"
      ]
     },
     "execution_count": 21,
     "metadata": {},
     "output_type": "execute_result"
    }
   ],
   "source": [
    "type(\"hello\")"
   ]
  },
  {
   "cell_type": "code",
   "execution_count": 22,
   "id": "5b29b89c-c5bb-4ec2-ad81-3042d1057aa1",
   "metadata": {},
   "outputs": [
    {
     "data": {
      "text/plain": [
       "(1+2j)"
      ]
     },
     "execution_count": 22,
     "metadata": {},
     "output_type": "execute_result"
    }
   ],
   "source": [
    "1+2j"
   ]
  },
  {
   "cell_type": "code",
   "execution_count": 23,
   "id": "98d1b890-9951-4b52-9a3b-c1aa07935d42",
   "metadata": {},
   "outputs": [
    {
     "data": {
      "text/plain": [
       "'23'"
      ]
     },
     "execution_count": 23,
     "metadata": {},
     "output_type": "execute_result"
    }
   ],
   "source": [
    "str('23')"
   ]
  },
  {
   "cell_type": "code",
   "execution_count": 24,
   "id": "5aa897af-9ae7-4a3f-9922-b31f8721d913",
   "metadata": {},
   "outputs": [
    {
     "data": {
      "text/plain": [
       "True"
      ]
     },
     "execution_count": 24,
     "metadata": {},
     "output_type": "execute_result"
    }
   ],
   "source": [
    "bool(1)"
   ]
  },
  {
   "cell_type": "code",
   "execution_count": 26,
   "id": "cab92258-07c2-4cf8-9dc5-f7c663366080",
   "metadata": {},
   "outputs": [],
   "source": [
    "#### Dynamic Typing"
   ]
  },
  {
   "cell_type": "markdown",
   "id": "42d8cd44-c941-476d-861d-f644ab7f3611",
   "metadata": {},
   "source": [
    "### Dynamic Typng"
   ]
  },
  {
   "cell_type": "code",
   "execution_count": 27,
   "id": "1c3295e2-ea43-44c0-a760-e2dbf0bbd849",
   "metadata": {},
   "outputs": [],
   "source": [
    "a=10\n",
    "str1=\"aba\"\n"
   ]
  },
  {
   "cell_type": "code",
   "execution_count": 28,
   "id": "9c1fc953-5bf2-47e2-814d-f7f2c6bc40a6",
   "metadata": {},
   "outputs": [
    {
     "name": "stdout",
     "output_type": "stream",
     "text": [
      "<class 'int'>\n"
     ]
    }
   ],
   "source": [
    "print(type(a))"
   ]
  },
  {
   "cell_type": "code",
   "execution_count": null,
   "id": "4657bb99-e9ec-4174-a229-289e801c0d9d",
   "metadata": {},
   "outputs": [],
   "source": []
  }
 ],
 "metadata": {
  "kernelspec": {
   "display_name": "Python 3 (ipykernel)",
   "language": "python",
   "name": "python3"
  },
  "language_info": {
   "codemirror_mode": {
    "name": "ipython",
    "version": 3
   },
   "file_extension": ".py",
   "mimetype": "text/x-python",
   "name": "python",
   "nbconvert_exporter": "python",
   "pygments_lexer": "ipython3",
   "version": "3.10.8"
  }
 },
 "nbformat": 4,
 "nbformat_minor": 5
}
