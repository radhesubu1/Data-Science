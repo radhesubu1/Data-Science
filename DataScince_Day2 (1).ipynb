{
 "cells": [
  {
   "cell_type": "code",
   "execution_count": 1,
   "id": "042e0ed7-af92-4c99-857b-778790610982",
   "metadata": {},
   "outputs": [],
   "source": [
    "a=10"
   ]
  },
  {
   "cell_type": "code",
   "execution_count": 2,
   "id": "45a36c3a-2c20-44f2-a34a-e599a345676d",
   "metadata": {},
   "outputs": [],
   "source": [
    "a='c'"
   ]
  },
  {
   "cell_type": "code",
   "execution_count": 3,
   "id": "5ea4bf00-ee5b-4373-a014-360fd8539428",
   "metadata": {},
   "outputs": [
    {
     "data": {
      "text/plain": [
       "str"
      ]
     },
     "execution_count": 3,
     "metadata": {},
     "output_type": "execute_result"
    }
   ],
   "source": [
    "type(a)"
   ]
  },
  {
   "cell_type": "code",
   "execution_count": 4,
   "id": "e7506dc8-a3ba-4726-8889-0cba9f5b9804",
   "metadata": {},
   "outputs": [
    {
     "ename": "ValueError",
     "evalue": "invalid literal for int() with base 10: 'abc'",
     "output_type": "error",
     "traceback": [
      "\u001b[0;31m---------------------------------------------------------------------------\u001b[0m",
      "\u001b[0;31mValueError\u001b[0m                                Traceback (most recent call last)",
      "Cell \u001b[0;32mIn[4], line 1\u001b[0m\n\u001b[0;32m----> 1\u001b[0m \u001b[38;5;28;43mint\u001b[39;49m\u001b[43m(\u001b[49m\u001b[38;5;124;43m'\u001b[39;49m\u001b[38;5;124;43mabc\u001b[39;49m\u001b[38;5;124;43m'\u001b[39;49m\u001b[43m)\u001b[49m\n",
      "\u001b[0;31mValueError\u001b[0m: invalid literal for int() with base 10: 'abc'"
     ]
    }
   ],
   "source": [
    "int('abc')"
   ]
  },
  {
   "cell_type": "code",
   "execution_count": null,
   "id": "959035e8-fff7-4ec8-aeee-ca0b85f7abd5",
   "metadata": {},
   "outputs": [],
   "source": [
    "print(\"Hello\")"
   ]
  },
  {
   "cell_type": "code",
   "execution_count": null,
   "id": "0d670850-debe-487e-bf1f-17a78974ea05",
   "metadata": {},
   "outputs": [],
   "source": [
    "print(123)"
   ]
  },
  {
   "cell_type": "code",
   "execution_count": null,
   "id": "16da8b29-7019-45fb-90a9-8777a80025e0",
   "metadata": {},
   "outputs": [],
   "source": [
    "age=28\n",
    "print(\"My age is: \", age)"
   ]
  },
  {
   "cell_type": "code",
   "execution_count": null,
   "id": "90b785ae-c151-49e6-a275-d479a7448bef",
   "metadata": {},
   "outputs": [],
   "source": [
    "print(\"My age is: {age}\")"
   ]
  },
  {
   "cell_type": "code",
   "execution_count": null,
   "id": "721e388a-be38-4ec6-aafb-56ef5aa12509",
   "metadata": {},
   "outputs": [],
   "source": [
    "## f (Format) string\n",
    "print(f\"My age is: {age}\")"
   ]
  },
  {
   "cell_type": "code",
   "execution_count": null,
   "id": "697cb807-8b9b-4533-82e6-9c7113da464d",
   "metadata": {
    "tags": []
   },
   "outputs": [],
   "source": [
    "## format()\n",
    "name=\"Radhashyam\"\n",
    "age=28\n",
    "print(\"My name is {} and age is {}\". format(name,age))"
   ]
  },
  {
   "cell_type": "code",
   "execution_count": null,
   "id": "863acb46-09ff-4067-b7f5-cefdff5054c9",
   "metadata": {},
   "outputs": [],
   "source": [
    "## place holder {firstname}\n",
    "print(\"My name is {firstname} and age is {firstage}\". format(firstname=name,firstage=age))"
   ]
  },
  {
   "cell_type": "code",
   "execution_count": null,
   "id": "fbb03b5e-e727-4ae3-9867-812032d57ff6",
   "metadata": {},
   "outputs": [],
   "source": [
    "name=\"Radhe\"\n",
    "age=28\n",
    "degree=\"MCA\"\n",
    "\n",
    "print(\"My age is {} and i have completed: my degree of {} with the name of {}\".format(age,degree,name))"
   ]
  },
  {
   "cell_type": "markdown",
   "id": "7c0a3795-adcc-4e8d-9e4a-7e03b4cb3322",
   "metadata": {},
   "source": [
    "## Control Flow\n",
    "### Decission Making Statements"
   ]
  },
  {
   "cell_type": "code",
   "execution_count": 8,
   "id": "58344d7f-f46b-4a49-a423-faec45a947ca",
   "metadata": {},
   "outputs": [
    {
     "name": "stdout",
     "output_type": "stream",
     "text": [
      "you are eligible to vote\n"
     ]
    }
   ],
   "source": [
    "## if statements\n",
    "age=18\n",
    "if age>=18:\n",
    "    print(\"you are eligible to vote\")"
   ]
  },
  {
   "cell_type": "code",
   "execution_count": 7,
   "id": "6169ef64-eb47-46d7-98ab-8145dd6738e8",
   "metadata": {},
   "outputs": [
    {
     "name": "stdout",
     "output_type": "stream",
     "text": [
      "you are not eligible to vote\n"
     ]
    }
   ],
   "source": [
    "## if statements\n",
    "age=17\n",
    "if age<18:\n",
    "    print(\"you are not eligible to vote\")"
   ]
  },
  {
   "cell_type": "code",
   "execution_count": 6,
   "id": "52479932-e290-4e32-8db8-2ce9a95f0c8b",
   "metadata": {},
   "outputs": [
    {
     "name": "stdin",
     "output_type": "stream",
     "text": [
      "Enter the name Radhashyam\n"
     ]
    }
   ],
   "source": [
    "name=input(\"Enter the name\")"
   ]
  },
  {
   "cell_type": "code",
   "execution_count": 9,
   "id": "0447a174-af1b-4dc6-9ed3-eb9d96bd911e",
   "metadata": {},
   "outputs": [
    {
     "name": "stdin",
     "output_type": "stream",
     "text": [
      "Enter the age 34\n"
     ]
    },
    {
     "name": "stdout",
     "output_type": "stream",
     "text": [
      "you are young blood\n"
     ]
    }
   ],
   "source": [
    "age=int(input(\"Enter the age\"))\n",
    "if age>=18 and age<=45:\n",
    "    print(\"you are young blood\")"
   ]
  },
  {
   "cell_type": "code",
   "execution_count": 10,
   "id": "5ac43f75-d4c6-4a52-a58d-1d9e9f16645d",
   "metadata": {},
   "outputs": [
    {
     "name": "stdin",
     "output_type": "stream",
     "text": [
      "Enter the age 50\n"
     ]
    },
    {
     "name": "stdout",
     "output_type": "stream",
     "text": [
      "Thank you your application is rejected\n"
     ]
    }
   ],
   "source": [
    "## if else statements\n",
    "age=int(input(\"Enter the age\"))\n",
    "if age>=18 and age<=45:\n",
    "    print(\"you are young blood\")\n",
    "else:\n",
    "    print(\"Thank you your application is rejected\")"
   ]
  },
  {
   "cell_type": "code",
   "execution_count": 26,
   "id": "5713bf9b-2b79-4d85-8de2-9d5687ce02a5",
   "metadata": {},
   "outputs": [
    {
     "name": "stdin",
     "output_type": "stream",
     "text": [
      "Enter you Product value 2999\n"
     ]
    },
    {
     "name": "stdout",
     "output_type": "stream",
     "text": [
      "Congratulated You will get additional gift\n",
      "Product price is: 2099.2999999999997\n"
     ]
    }
   ],
   "source": [
    "ProductValue=int(input(\"Enter you Product value\"))\n",
    "if ProductValue > 3000:\n",
    "                 print(f\"Product price is: {ProductValue*0.8}\")     \n",
    "elif ProductValue>=2000 and ProductValue<=3000:\n",
    "    if ProductValue==2999:\n",
    "            print(\"Congratulated You will get additional gift\")\n",
    "    print(f\"Product price is: {ProductValue*0.7}\")\n",
    "        \n",
    "else:\n",
    "    print(f\"Product price is: {ProductValue*0.6}\")"
   ]
  },
  {
   "cell_type": "code",
   "execution_count": 28,
   "id": "fb2150c5-5fc1-46cb-b2a1-b72e26ae52d3",
   "metadata": {},
   "outputs": [
    {
     "name": "stdin",
     "output_type": "stream",
     "text": [
      "enter the no 999\n"
     ]
    },
    {
     "name": "stdout",
     "output_type": "stream",
     "text": [
      "welcome\n"
     ]
    }
   ],
   "source": [
    "val=int(input(\"enter the no\"))\n",
    "if(val<=999):print(\"welcome\")"
   ]
  },
  {
   "cell_type": "markdown",
   "id": "a2ba1f72-bc07-4daa-ba65-89641a4201dc",
   "metadata": {},
   "source": [
    "## loops Statement\n",
    "1. While Loop\n",
    "2. for loop\n",
    "3. nested loops\n",
    "4. Loop Control(break,continue,pass)"
   ]
  },
  {
   "cell_type": "markdown",
   "id": "d5fa49d5-fedc-44dc-81f8-ee05508d309a",
   "metadata": {},
   "source": [
    "## while Loop\n"
   ]
  },
  {
   "cell_type": "code",
   "execution_count": 33,
   "id": "6fe5a3e1-e4f6-47fd-8212-17875fc2d7cd",
   "metadata": {},
   "outputs": [
    {
     "name": "stdout",
     "output_type": "stream",
     "text": [
      "26\n",
      "27\n",
      "28\n",
      "29\n",
      "30\n",
      "31\n",
      "32\n",
      "33\n",
      "34\n",
      "35\n",
      "36\n",
      "37\n",
      "38\n",
      "39\n",
      "40\n",
      "41\n",
      "42\n",
      "43\n",
      "44\n",
      "45\n",
      "46\n",
      "47\n",
      "48\n",
      "49\n",
      "50\n",
      "51\n",
      "52\n",
      "53\n",
      "54\n",
      "55\n",
      "56\n",
      "57\n",
      "58\n",
      "59\n",
      "60\n",
      "61\n",
      "Its time for retirement\n"
     ]
    }
   ],
   "source": [
    "# while loop\n",
    "joining_age=25\n",
    "while joining_age<=60:\n",
    "    joining_age=joining_age+1\n",
    "    print(joining_age)\n",
    "else:\n",
    "    print(\"Its time for retirement\")"
   ]
  },
  {
   "cell_type": "code",
   "execution_count": 40,
   "id": "a2b9d31f-8ff5-4a34-8535-57466c32936b",
   "metadata": {},
   "outputs": [
    {
     "name": "stdout",
     "output_type": "stream",
     "text": [
      "1000\n",
      "900\n",
      "800\n",
      "700\n",
      "600\n",
      "500\n",
      "400\n",
      "300\n",
      "200\n",
      "100\n",
      "Bank please fill the money\n"
     ]
    }
   ],
   "source": [
    "# while loop\n",
    "total_amount=1000\n",
    "while total_amount!=0:\n",
    "    print(total_amount)\n",
    "    total_amount=total_amount-100\n",
    "else:\n",
    "    print(\"Bank please fill the money\")"
   ]
  },
  {
   "cell_type": "markdown",
   "id": "a9de38e2-864d-4320-99da-82279006ab5c",
   "metadata": {},
   "source": [
    "## for loop"
   ]
  },
  {
   "cell_type": "code",
   "execution_count": 45,
   "id": "5b984a33-9f6e-4149-b2b8-15f3578a4f13",
   "metadata": {},
   "outputs": [],
   "source": [
    "lst = [\"Radhe\",1,2,3,4,\"test\",\"test1\"]"
   ]
  },
  {
   "cell_type": "code",
   "execution_count": 46,
   "id": "6751206d-4e38-4cf6-b25b-73b66b3dedf3",
   "metadata": {},
   "outputs": [
    {
     "data": {
      "text/plain": [
       "list"
      ]
     },
     "execution_count": 46,
     "metadata": {},
     "output_type": "execute_result"
    }
   ],
   "source": [
    "type(lst)"
   ]
  },
  {
   "cell_type": "code",
   "execution_count": 47,
   "id": "a19157d4-be14-4576-acbb-bdf9a5423c62",
   "metadata": {},
   "outputs": [
    {
     "data": {
      "text/plain": [
       "'Radhe'"
      ]
     },
     "execution_count": 47,
     "metadata": {},
     "output_type": "execute_result"
    }
   ],
   "source": [
    "lst[0]"
   ]
  },
  {
   "cell_type": "code",
   "execution_count": 48,
   "id": "bdecdd39-ba24-46f8-aaad-b6119c024363",
   "metadata": {},
   "outputs": [
    {
     "data": {
      "text/plain": [
       "['Radhe', 1, 2, 3, 4, 'test', 'test1']"
      ]
     },
     "execution_count": 48,
     "metadata": {},
     "output_type": "execute_result"
    }
   ],
   "source": [
    "lst"
   ]
  },
  {
   "cell_type": "code",
   "execution_count": 49,
   "id": "4fddd682-3dd9-4038-8cf2-726f96f25951",
   "metadata": {},
   "outputs": [
    {
     "name": "stdout",
     "output_type": "stream",
     "text": [
      "Radhe\n",
      "1\n",
      "2\n",
      "3\n",
      "4\n",
      "test\n",
      "test1\n"
     ]
    }
   ],
   "source": [
    "for x in lst:\n",
    "    print(x)"
   ]
  },
  {
   "cell_type": "code",
   "execution_count": 50,
   "id": "824f5f15-8baf-4bac-84be-2dcefabb0ac9",
   "metadata": {},
   "outputs": [],
   "source": [
    "fruit_list = [\"mango\", \"banana\" , \"papapya\" , \"cherry\"]"
   ]
  },
  {
   "cell_type": "code",
   "execution_count": 52,
   "id": "79ea3703-fb1b-43f0-a85d-4ab7306de1dd",
   "metadata": {},
   "outputs": [
    {
     "name": "stdout",
     "output_type": "stream",
     "text": [
      "mango\n",
      "banana\n",
      "The fruit is: banana\n",
      "papapya\n",
      "cherry\n"
     ]
    }
   ],
   "source": [
    "for a in fruit_list:\n",
    "    print(a)\n",
    "    if a==\"banana\":\n",
    "        print(f\"The fruit is: {a}\")"
   ]
  },
  {
   "cell_type": "code",
   "execution_count": 53,
   "id": "c66e7729-8bae-4284-a3bb-f1d9da1ab657",
   "metadata": {},
   "outputs": [
    {
     "name": "stdout",
     "output_type": "stream",
     "text": [
      "m\n",
      "a\n",
      "n\n",
      "g\n",
      "o\n"
     ]
    }
   ],
   "source": [
    "fruit = \"mango\"\n",
    "for x in fruit:\n",
    "    print(x)"
   ]
  },
  {
   "cell_type": "code",
   "execution_count": 56,
   "id": "e6ec447a-b9ba-4177-aef1-2d2b5b424d16",
   "metadata": {},
   "outputs": [
    {
     "name": "stdout",
     "output_type": "stream",
     "text": [
      "mango"
     ]
    }
   ],
   "source": [
    "fruit = \"mango\"\n",
    "for x in fruit:\n",
    "    print(x,end='')"
   ]
  },
  {
   "cell_type": "code",
   "execution_count": 55,
   "id": "6cc9c10a-574f-4393-a23c-1f4bed2db5f0",
   "metadata": {},
   "outputs": [
    {
     "data": {
      "text/plain": [
       "'a'"
      ]
     },
     "execution_count": 55,
     "metadata": {},
     "output_type": "execute_result"
    }
   ],
   "source": [
    "fruit[1]"
   ]
  },
  {
   "cell_type": "markdown",
   "id": "a06950c0-45e2-43b8-a574-d3be1f0eddcf",
   "metadata": {},
   "source": [
    "## Nested Loops"
   ]
  },
  {
   "cell_type": "code",
   "execution_count": 65,
   "id": "037882c3-212d-4270-b4a8-444f8ef2e79a",
   "metadata": {},
   "outputs": [
    {
     "name": "stdout",
     "output_type": "stream",
     "text": [
      "*\n",
      "**\n",
      "***\n",
      "****\n",
      "*****\n",
      "******\n",
      "*******\n"
     ]
    }
   ],
   "source": [
    "n=7\n",
    "\n",
    "for i in range(0,n):\n",
    "    for j in range(0,i+1):\n",
    "        print(\"*\", end=\"\")\n",
    "    print(\"\\r\")"
   ]
  },
  {
   "cell_type": "code",
   "execution_count": 58,
   "id": "db2b936b-e600-4c6d-9181-be4ae9be3a24",
   "metadata": {},
   "outputs": [
    {
     "name": "stdout",
     "output_type": "stream",
     "text": [
      "1\n",
      "2\n",
      "3\n",
      "4\n",
      "5\n"
     ]
    }
   ],
   "source": [
    "for i in range(1,6,1):\n",
    "    print(i)"
   ]
  },
  {
   "cell_type": "code",
   "execution_count": 59,
   "id": "adb8b36b-c009-46ee-b102-6cf12e041dab",
   "metadata": {},
   "outputs": [
    {
     "name": "stdout",
     "output_type": "stream",
     "text": [
      "1\n",
      "3\n",
      "5\n"
     ]
    }
   ],
   "source": [
    "for i in range(1,6,2):\n",
    "    print(i)"
   ]
  },
  {
   "cell_type": "code",
   "execution_count": null,
   "id": "05da5dac-b8ff-4fad-bf9e-82752d9b84ec",
   "metadata": {},
   "outputs": [],
   "source": []
  },
  {
   "cell_type": "code",
   "execution_count": null,
   "id": "3c158276-4b94-4c88-be47-70e3e446cdf3",
   "metadata": {},
   "outputs": [],
   "source": []
  },
  {
   "cell_type": "code",
   "execution_count": null,
   "id": "75c840b5-e6d5-49fc-8673-391386abcc75",
   "metadata": {},
   "outputs": [],
   "source": []
  },
  {
   "cell_type": "code",
   "execution_count": null,
   "id": "252e2108-70a3-40d9-904e-d96e3aec9856",
   "metadata": {},
   "outputs": [],
   "source": []
  },
  {
   "cell_type": "code",
   "execution_count": null,
   "id": "cdecc360-fe1c-416c-b23f-4a9b156f8b3d",
   "metadata": {},
   "outputs": [],
   "source": []
  },
  {
   "cell_type": "code",
   "execution_count": null,
   "id": "81e6e31e-c92c-4368-9d45-66ed20feea17",
   "metadata": {},
   "outputs": [],
   "source": []
  },
  {
   "cell_type": "code",
   "execution_count": null,
   "id": "b3fbd4f8-f879-450a-9a37-caad4914e602",
   "metadata": {},
   "outputs": [],
   "source": []
  }
 ],
 "metadata": {
  "kernelspec": {
   "display_name": "Python 3 (ipykernel)",
   "language": "python",
   "name": "python3"
  },
  "language_info": {
   "codemirror_mode": {
    "name": "ipython",
    "version": 3
   },
   "file_extension": ".py",
   "mimetype": "text/x-python",
   "name": "python",
   "nbconvert_exporter": "python",
   "pygments_lexer": "ipython3",
   "version": "3.10.8"
  }
 },
 "nbformat": 4,
 "nbformat_minor": 5
}
